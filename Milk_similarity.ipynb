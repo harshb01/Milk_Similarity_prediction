{
  "nbformat": 4,
  "nbformat_minor": 0,
  "metadata": {
    "colab": {
      "private_outputs": true,
      "provenance": [],
      "authorship_tag": "ABX9TyOS5EFtDgVND+I/TR3/yG/z",
      "include_colab_link": true
    },
    "kernelspec": {
      "name": "python3",
      "display_name": "Python 3"
    },
    "language_info": {
      "name": "python"
    }
  },
  "cells": [
    {
      "cell_type": "markdown",
      "metadata": {
        "id": "view-in-github",
        "colab_type": "text"
      },
      "source": [
        "<a href=\"https://colab.research.google.com/github/harshb01/Milk_Similarity_prediction/blob/main/Milk_similarity.ipynb\" target=\"_parent\"><img src=\"https://colab.research.google.com/assets/colab-badge.svg\" alt=\"Open In Colab\"/></a>"
      ]
    },
    {
      "cell_type": "code",
      "execution_count": null,
      "metadata": {
        "id": "AQm93ZieaVAG"
      },
      "outputs": [],
      "source": []
    },
    {
      "cell_type": "code",
      "source": [
        "import pandas as pd\n",
        "import numpy as np\n",
        "from sklearn.cluster import KMeans\n",
        "from sklearn.preprocessing import StandardScaler\n",
        "\n",
        "# Sample data (replace this with your actual dataset)\n",
        "data = {\n",
        "    'MilkType': ['Cow Milk', 'Pea Milk', 'Oat Milk', 'Rice Milk', 'Coconut Milk', 'Soy Milk'],\n",
        "    'Fibre': [0, 1, 2, 0, 0, 1],\n",
        "    'ProteinContent': [8, 10, 3, 2.7, 2.3, 7]\n",
        "}\n",
        "\n",
        "# Create a DataFrame from the data\n",
        "df = pd.DataFrame(data)\n",
        "\n",
        "# Extract features\n",
        "features = ['Fibre', 'ProteinContent']\n",
        "X = df[features].values\n",
        "\n",
        "# Standardize the data\n",
        "scaler = StandardScaler()\n",
        "X_scaled = scaler.fit_transform(X)\n",
        "\n",
        "# Specify the number of clusters (K)\n",
        "k = 3  # You can adjust this based on your specific case\n",
        "\n",
        "# Create KMeans instance\n",
        "kmeans = KMeans(n_clusters=k, random_state=42)\n",
        "\n",
        "# Fit the model to the data\n",
        "kmeans.fit(X_scaled)\n",
        "\n",
        "# Assign each milk type to a cluster\n",
        "df['Cluster'] = kmeans.labels_\n",
        "\n",
        "# Find the cluster to which 'Cow Milk' belongs\n",
        "cow_milk_cluster = df.loc[df['MilkType'] == 'Cow Milk', 'Cluster'].values[0]\n",
        "\n",
        "# Display the cluster assignment for each milk type\n",
        "print(df[['MilkType', 'Cluster']])\n",
        "\n",
        "# Display milk types closely related to Cow Milk based on cluster\n",
        "closely_related_milks = df.loc[df['Cluster'] == cow_milk_cluster, 'MilkType'].tolist()\n",
        "print(f\"\\nMilk types closely related to Cow Milk: {', '.join(closely_related_milks)}\")\n",
        "\n"
      ],
      "metadata": {
        "id": "rHZGFRkcm4zW"
      },
      "execution_count": null,
      "outputs": []
    }
  ]
}